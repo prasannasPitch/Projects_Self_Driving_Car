{
 "cells": [
  {
   "cell_type": "code",
   "execution_count": null,
   "metadata": {},
   "outputs": [],
   "source": [
    "import numpy as np\n",
    "import cv2\n",
    "import glob\n",
    "import matplotlib.pyplot as plt\n",
    "import matplotlib.image as mpimg\n",
    "%matplotlib inline\n",
    "import os"
   ]
  },
  {
   "cell_type": "code",
   "execution_count": null,
   "metadata": {},
   "outputs": [],
   "source": [
    "def cal_undistort(img, objpoints, imgpoints):\n",
    "    # Use cv2.calibrateCamera() and cv2.undistort()\n",
    "    gray = cv2.cvtColor(img, cv2.COLOR_BGR2GRAY)\n",
    "    ret, mtx, dist, rvecs, tvecs = cv2.calibrateCamera(objpoints, imgpoints, gray.shape[::-1],None,None)\n",
    "    undist = cv2.undistort(img, mtx, dist, None, mtx)\n",
    "    return undist"
   ]
  },
  {
   "cell_type": "code",
   "execution_count": null,
   "metadata": {},
   "outputs": [],
   "source": [
    "def gaussian_blur(img, kernel_size):\n",
    "    \"\"\"Applies a Gaussian Noise kernel\"\"\"\n",
    "    return cv2.GaussianBlur(img, (kernel_size, kernel_size), 0)"
   ]
  },
  {
   "cell_type": "code",
   "execution_count": null,
   "metadata": {},
   "outputs": [],
   "source": [
    "def calibrate_camera(calibration_folder):\n",
    "\n",
    "    #Initialize object and image points\n",
    "    objp = np.zeros((6*9,3), np.float32)\n",
    "    objp[:,:2] = np.mgrid[0:9,0:6].T.reshape(-1,2)\n",
    "\n",
    "    # Arrays to store object points and image points from all the images.\n",
    "    objpoints = [] # 3d points in real world space\n",
    "    imgpoints = []\n",
    "    images = glob.glob(calibration_folder)\n",
    "    for fname in images:\n",
    "        img = cv2.imread(fname)\n",
    "        gray = cv2.cvtColor(img,cv2.COLOR_BGR2GRAY)\n",
    "        ret, corners = cv2.findChessboardCorners(gray, (9,6), None)\n",
    "\n",
    "        if ret == True:\n",
    "            imgpoints.append(corners)\n",
    "            objpoints.append(objp)\n",
    "    return  objpoints, imgpoints"
   ]
  },
  {
   "cell_type": "code",
   "execution_count": null,
   "metadata": {},
   "outputs": [],
   "source": [
    "def magnitude_thresh(img, mag_thresh):\n",
    "    img = np.copy(img)\n",
    "\n",
    "    gray = cv2.cvtColor(img, cv2.COLOR_BGR2GRAY)\n",
    "    gray = gaussian_blur(gray, 5)\n",
    "    \n",
    "    #magnitude\n",
    "    abs_sobel_x = np.absolute(cv2.Sobel(gray, cv2.CV_64F, 1, 0, ksize=11))\n",
    "    abs_sobel_y = np.absolute(cv2.Sobel(gray, cv2.CV_64F, 0, 1, ksize=11))\n",
    "    abs_sobelxy = np.sqrt((abs_sobel_x * abs_sobel_x)+(abs_sobel_y * abs_sobel_y))\n",
    "    scaled_mag = np.uint8(255*abs_sobelxy/np.max(abs_sobelxy))\n",
    "    mag_binary = np.zeros_like(scaled_mag)\n",
    "    mag_binary[(scaled_mag >= mag_thresh[0]) & (scaled_mag <= mag_thresh[1])] = 1\n",
    "    \n",
    "    return mag_binary"
   ]
  },
  {
   "cell_type": "code",
   "execution_count": null,
   "metadata": {},
   "outputs": [],
   "source": [
    "def channel_threshold_LUV(img,threshold_range):\n",
    "    \n",
    "    l_channel_luv = cv2.cvtColor(img, cv2.COLOR_BGR2LUV)[:,:,0]\n",
    "\n",
    "    \n",
    "    l_binary = np.zeros_like(l_channel_luv)\n",
    "    l_binary[(l_channel_luv >= threshold_range[0]) & (l_channel_luv <= threshold_range[1])] = 1\n",
    "    \n",
    "    return l_binary"
   ]
  },
  {
   "cell_type": "code",
   "execution_count": null,
   "metadata": {},
   "outputs": [],
   "source": [
    "def channel_threshold_YCrCb(img,threshold_range):\n",
    "    brightYCB = cv2.cvtColor(img, cv2.COLOR_BGR2YCrCb)[:,:,0]\n",
    "    \n",
    "    ycrcb_binary = np.zeros_like(brightYCB)\n",
    "    ycrcb_binary[(brightYCB >= threshold_range[0]) & (brightYCB <= threshold_range[1])] = 1\n",
    "    \n",
    "    return ycrcb_binary"
   ]
  },
  {
   "cell_type": "code",
   "execution_count": null,
   "metadata": {},
   "outputs": [],
   "source": [
    "def channel_threshold_LAB(img,threshold_range):\n",
    "    \n",
    "    b_channel_lab = cv2.cvtColor(img, cv2.COLOR_BGR2Lab)[:,:,2]\n",
    "        \n",
    "    b_binary = np.zeros_like(b_channel_lab)\n",
    "    b_binary[(b_channel_lab >= threshold_range[0]) & (b_channel_lab <= threshold_range[1])] = 1\n",
    "    \n",
    "    return b_binary"
   ]
  },
  {
   "cell_type": "code",
   "execution_count": null,
   "metadata": {},
   "outputs": [],
   "source": [
    "def sobel_output(img, s_thresh):\n",
    "    img = np.copy(img)\n",
    "    \n",
    "        # Convert to HLS color space and separate the V channel\n",
    "    hls = cv2.cvtColor(img, cv2.COLOR_BGR2HSV)\n",
    "    h_channel = hls[:,:,0]\n",
    "    l_channel = hls[:,:,1]\n",
    "    s_channel = hls[:,:,2]\n",
    "    \n",
    "    \n",
    "    abs_sobel_x = np.absolute(cv2.Sobel(s_channel, cv2.CV_64F, 0, 1, ksize=7))\n",
    "    scaled_sobel = np.uint8(255*abs_sobel_x/np.max(abs_sobel_x))\n",
    "    \n",
    "    sobel_binary = np.zeros_like(scaled_sobel)\n",
    "    sobel_binary[(scaled_sobel >= s_thresh[0]) & (scaled_sobel <= s_thresh[1])] = 1\n",
    "\n",
    "    return sobel_binary"
   ]
  },
  {
   "cell_type": "code",
   "execution_count": null,
   "metadata": {},
   "outputs": [],
   "source": [
    "\n",
    "calibration_folder ='camera_cal/calibration*.jpg'\n",
    "objpoints, imgpoints = calibrate_camera(calibration_folder)\n"
   ]
  },
  {
   "cell_type": "code",
   "execution_count": null,
   "metadata": {},
   "outputs": [],
   "source": [
    "folder = \"test_images/\"\n",
    "image_list = os.listdir(folder)\n",
    "for i, image in enumerate(image_list):\n",
    "    image_file = os.path.join(folder, image)\n",
    "    img = cv2.imread(image_file)\n",
    "\n",
    "    f, (ax1, ax2, ax3) = plt.subplots(1, 3, figsize=(24, 9))\n",
    "    f.tight_layout()\n",
    "    \n",
    "    ax1.imshow(cv2.cvtColor(img, cv2.COLOR_BGR2RGB))\n",
    "    undistorted = cal_undistort(img, objpoints, imgpoints)\n",
    "    ax1.set_title('Original Image - '+ image, fontsize=15)\n",
    "    ax2.imshow(cv2.cvtColor(undistorted, cv2.COLOR_BGR2RGB))\n",
    "    ax2.set_title('Undistorted Image', fontsize=15)\n",
    "    #result = pipeline1(undistorted, s_thresh=(150, 255), sobel_x_thresh=(100, 250), mag_thresh= (50,255))\n",
    "    result = magnitude_thresh(undistorted, mag_thresh= (50,255))\n",
    "    #ax3.imshow(cv2.cvtColor(result, cv2.COLOR_BGR2RGB))\n",
    "    ax3.imshow(result, cmap = 'gray')\n",
    "    ax3.set_title('Magnitude Threshold', fontsize=15)\n",
    "    plt.subplots_adjust(left=0., right=1, top=0.9, bottom=0.)"
   ]
  },
  {
   "cell_type": "code",
   "execution_count": null,
   "metadata": {},
   "outputs": [],
   "source": [
    "folder = \"test_images/\"\n",
    "image_list = os.listdir(folder)\n",
    "for i, image in enumerate(image_list):\n",
    "    image_file = os.path.join(folder, image)\n",
    "    img = cv2.imread(image_file)\n",
    "\n",
    "    f, (ax1, ax2, ax3) = plt.subplots(1, 3, figsize=(24, 9))\n",
    "    f.tight_layout()\n",
    "    \n",
    "    ax1.imshow(cv2.cvtColor(img, cv2.COLOR_BGR2RGB))\n",
    "    undistorted = cal_undistort(img, objpoints, imgpoints)\n",
    "    ax1.set_title('Original Image - '+ image, fontsize=15)\n",
    "    ax2.imshow(cv2.cvtColor(undistorted, cv2.COLOR_BGR2RGB))\n",
    "    ax2.set_title('Undistorted Image', fontsize=15)\n",
    "    result = sobel_output(undistorted, s_thresh=(100, 255))\n",
    "    #ax3.imshow(cv2.cvtColor(result, cv2.COLOR_BGR2RGB))\n",
    "    ax3.imshow(result, cmap = 'gray')\n",
    "    ax3.set_title('Sobel Output', fontsize=15)\n",
    "    plt.subplots_adjust(left=0., right=1, top=0.9, bottom=0.)"
   ]
  },
  {
   "cell_type": "code",
   "execution_count": null,
   "metadata": {},
   "outputs": [],
   "source": [
    "folder = \"test_images/\"\n",
    "image_list = os.listdir(folder)\n",
    "for i, image in enumerate(image_list):\n",
    "    image_file = os.path.join(folder, image)\n",
    "    img = cv2.imread(image_file)\n",
    "\n",
    "    f, (ax1, ax2, ax3) = plt.subplots(1, 3, figsize=(24, 9))\n",
    "    f.tight_layout()\n",
    "    \n",
    "    ax1.imshow(cv2.cvtColor(img, cv2.COLOR_BGR2RGB))\n",
    "    undistorted = cal_undistort(img, objpoints, imgpoints)\n",
    "    ax1.set_title('Original Image - '+ image, fontsize=15)\n",
    "    ax2.imshow(cv2.cvtColor(undistorted, cv2.COLOR_BGR2RGB))\n",
    "    ax2.set_title('Undistorted Image', fontsize=15)\n",
    "    result = channel_threshold_YCrCb(undistorted, (150,255))\n",
    "    #ax3.imshow(cv2.cvtColor(result, cv2.COLOR_BGR2RGB))\n",
    "    ax3.imshow(result, cmap = 'gray')\n",
    "    ax3.set_title('YCrCb Output', fontsize=15)\n",
    "    plt.subplots_adjust(left=0., right=1, top=0.9, bottom=0.)"
   ]
  },
  {
   "cell_type": "code",
   "execution_count": null,
   "metadata": {},
   "outputs": [],
   "source": [
    "folder = \"test_images/\"\n",
    "image_list = os.listdir(folder)\n",
    "for i, image in enumerate(image_list):\n",
    "    image_file = os.path.join(folder, image)\n",
    "    img = cv2.imread(image_file)\n",
    "\n",
    "    f, (ax1, ax2, ax3) = plt.subplots(1, 3, figsize=(24, 9))\n",
    "    f.tight_layout()\n",
    "    \n",
    "    ax1.imshow(cv2.cvtColor(img, cv2.COLOR_BGR2RGB))\n",
    "    undistorted = cal_undistort(img, objpoints, imgpoints)\n",
    "    ax1.set_title('Original Image - '+ image, fontsize=15)\n",
    "    ax2.imshow(cv2.cvtColor(undistorted, cv2.COLOR_BGR2RGB))\n",
    "    ax2.set_title('Undistorted Image', fontsize=15)\n",
    "    result = channel_threshold_LUV(undistorted, (215,255))\n",
    "    #ax3.imshow(cv2.cvtColor(result, cv2.COLOR_BGR2RGB))\n",
    "    ax3.imshow(result, cmap = 'gray')\n",
    "    ax3.set_title('YCrCb Output', fontsize=15)\n",
    "    plt.subplots_adjust(left=0., right=1, top=0.9, bottom=0.)"
   ]
  },
  {
   "cell_type": "code",
   "execution_count": null,
   "metadata": {},
   "outputs": [],
   "source": [
    "folder = \"test_images/\"\n",
    "image_list = os.listdir(folder)\n",
    "for i, image in enumerate(image_list):\n",
    "    image_file = os.path.join(folder, image)\n",
    "    img = cv2.imread(image_file)\n",
    "\n",
    "    f, (ax1, ax2, ax3) = plt.subplots(1, 3, figsize=(24, 9))\n",
    "    f.tight_layout()\n",
    "    \n",
    "    ax1.imshow(cv2.cvtColor(img, cv2.COLOR_BGR2RGB))\n",
    "    undistorted = cal_undistort(img, objpoints, imgpoints)\n",
    "    ax1.set_title('Original Image - '+ image, fontsize=15)\n",
    "    ax2.imshow(cv2.cvtColor(undistorted, cv2.COLOR_BGR2RGB))\n",
    "    ax2.set_title('Undistorted Image', fontsize=15)\n",
    "    result = channel_threshold_LAB(undistorted, (160,215))\n",
    "    #ax3.imshow(cv2.cvtColor(result, cv2.COLOR_BGR2RGB))\n",
    "    ax3.imshow(result, cmap = 'gray')\n",
    "    ax3.set_title('LAB Output', fontsize=15)\n",
    "    plt.subplots_adjust(left=0., right=1, top=0.9, bottom=0.)"
   ]
  },
  {
   "cell_type": "code",
   "execution_count": null,
   "metadata": {},
   "outputs": [],
   "source": [
    "folder = \"test_images/\"\n",
    "image_list = os.listdir(folder)\n",
    "for i, image in enumerate(image_list):\n",
    "    image_file = os.path.join(folder, image)\n",
    "    img = cv2.imread(image_file)\n",
    "\n",
    "    f, (ax1, ax2, ax3) = plt.subplots(1, 3, figsize=(24, 9))\n",
    "    f.tight_layout()\n",
    "    \n",
    "    ax1.imshow(cv2.cvtColor(img, cv2.COLOR_BGR2RGB))\n",
    "    undistorted = cal_undistort(img, objpoints, imgpoints)\n",
    "    ax1.set_title('Original Image - '+ image, fontsize=15)\n",
    "    ax2.imshow(cv2.cvtColor(undistorted, cv2.COLOR_BGR2RGB))\n",
    "    ax2.set_title('Undistorted Image', fontsize=15)\n",
    "    result_lab = channel_threshold_LAB(undistorted, (160,215))\n",
    "    result_luv = channel_threshold_LUV(undistorted, (215,255))\n",
    "    pipeline_output = np.zeros_like(result_lab)\n",
    "    pipeline_output[(result_lab == 1) | (result_luv == 1)] = 1\n",
    "    #ax3.imshow(cv2.cvtColor(result, cv2.COLOR_BGR2RGB))\n",
    "    ax3.imshow(pipeline_output, cmap = 'gray')\n",
    "    ax3.set_title('LAB Output', fontsize=15)\n",
    "    plt.subplots_adjust(left=0., right=1, top=0.9, bottom=0.)"
   ]
  }
 ],
 "metadata": {
  "kernelspec": {
   "display_name": "Python 3",
   "language": "python",
   "name": "python3"
  },
  "language_info": {
   "codemirror_mode": {
    "name": "ipython",
    "version": 3
   },
   "file_extension": ".py",
   "mimetype": "text/x-python",
   "name": "python",
   "nbconvert_exporter": "python",
   "pygments_lexer": "ipython3",
   "version": "3.6.4"
  }
 },
 "nbformat": 4,
 "nbformat_minor": 2
}
